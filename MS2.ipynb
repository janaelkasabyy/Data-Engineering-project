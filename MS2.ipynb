{
 "cells": [
  {
   "cell_type": "markdown",
   "metadata": {},
   "source": [
    "## *Jana Ahmed Elkasaby - ID: 10005916 - T2* ##"
   ]
  },
  {
   "cell_type": "markdown",
   "metadata": {},
   "source": [
    "# Libraries& reading data #"
   ]
  },
  {
   "cell_type": "code",
   "execution_count": null,
   "metadata": {},
   "outputs": [],
   "source": [
    "import matplotlib.pyplot as plt\n",
    "import seaborn as sns\n",
    "import numpy as np\n",
    "import pandas as pd"
   ]
  },
  {
   "cell_type": "code",
   "execution_count": null,
   "metadata": {},
   "outputs": [],
   "source": [
    "players = pd.read_csv('datasets/players.csv')\n",
    "players.head()"
   ]
  },
  {
   "cell_type": "code",
   "execution_count": null,
   "metadata": {},
   "outputs": [],
   "source": [
    "appearances = pd.read_csv('datasets/appearances.csv')\n",
    "appearances.head()"
   ]
  },
  {
   "cell_type": "code",
   "execution_count": null,
   "metadata": {},
   "outputs": [],
   "source": [
    "mergedData = pd.merge(players, appearances, on='player_id') # merging on player_id because it is the common column    \n",
    "mergedData.head()"
   ]
  },
  {
   "cell_type": "markdown",
   "metadata": {},
   "source": [
    "# Research Question 1 #\n",
    "### How does the count of players who played more than 80 minutes vary across different countries of birth? ###"
   ]
  },
  {
   "cell_type": "code",
   "execution_count": null,
   "metadata": {},
   "outputs": [],
   "source": [
    "players_over_80_minutes = mergedData[mergedData['minutes_played'] > 80] # Filtering players who played more than 80 minutes\n",
    "players_over_80_minutes = players_over_80_minutes.head(3000) # Limiting the number of players to 3000 to make the plot more readable\n",
    "\n",
    "country_counts = players_over_80_minutes['country_of_birth'].value_counts() # Counting the number of players from each country"
   ]
  },
  {
   "cell_type": "markdown",
   "metadata": {},
   "source": [
    "#### Visualizing the answer to my first research question ####"
   ]
  },
  {
   "cell_type": "code",
   "execution_count": null,
   "metadata": {},
   "outputs": [],
   "source": [
    "plt.figure(figsize=(10, 6))\n",
    "sns.barplot(x=country_counts.values, y=country_counts.index, palette='viridis') \n",
    "\n",
    "plt.xlabel('Number of players')\n",
    "plt.ylabel('Country of birth')\n",
    "plt.title('Number of Players Who Played More Than 80 Minutes by Country')\n",
    "\n",
    "plt.tight_layout()\n",
    "plt.show()"
   ]
  },
  {
   "cell_type": "markdown",
   "metadata": {},
   "source": [
    "## *Insights on the first RQ* ##\n",
    "### 1. Germany has the most number of players who played more than 80 minute ###\n",
    "### 2. Netherlands has the least number of players who played more than 80 minutes ###"
   ]
  },
  {
   "cell_type": "markdown",
   "metadata": {},
   "source": [
    "#  ________________________________________________________________________________________ #"
   ]
  },
  {
   "cell_type": "markdown",
   "metadata": {},
   "source": [
    "# Research Question 2 #"
   ]
  },
  {
   "cell_type": "markdown",
   "metadata": {},
   "source": [
    "### How does the total number of goals scored by players from birth countries (Poland, Germany, France) vary over time in the IT1 competition? ###"
   ]
  },
  {
   "cell_type": "code",
   "execution_count": null,
   "metadata": {},
   "outputs": [],
   "source": [
    "countries = ['Poland', 'Germany', 'France'] \n",
    "competition_data = mergedData[(mergedData['country_of_birth'].isin(countries)) & (mergedData['competition_id'] == 'IT1')] # Filtering players from the countries of interest and competition_id = IT1\n",
    "\n",
    "groupedData = competition_data.pivot_table(index='date', columns='country_of_birth', values='goals', aggfunc='sum') # grouping the data by date and country of birth and summing the goals\n",
    "groupedData = groupedData.head(50) # Limiting the number of rows to 50 to make the plot more readable"
   ]
  },
  {
   "cell_type": "markdown",
   "metadata": {},
   "source": [
    "#### Visualizing the answer to my second research question ####\n"
   ]
  },
  {
   "cell_type": "code",
   "execution_count": null,
   "metadata": {},
   "outputs": [],
   "source": [
    "plt.figure(figsize=(12, 6))\n",
    "for country in groupedData.columns: # Looping through the columns of the groupedData dataframe\n",
    "    plt.bar(groupedData.index, groupedData[country], label=country, alpha=0.8) # Plotting a bar chart for each country\n",
    "\n",
    "plt.xlabel('Date') \n",
    "plt.ylabel('Total Goals')\n",
    "plt.title('Total Goals Scored Over Time in IT1 Competition by Country')\n",
    "plt.legend(title='Country', bbox_to_anchor=(1.05, 1), loc='upper left')\n",
    "\n",
    "plt.xticks(rotation=90) # just rotated the x-axis labels vertically\n",
    "\n",
    "plt.tight_layout()\n",
    "plt.show()"
   ]
  },
  {
   "cell_type": "markdown",
   "metadata": {},
   "source": [
    "## *Insights on the second RQ* ##\n",
    "### 1. Germany has the least number of goals scored from the date 25-08-2012 to 02-02-2013 ###\n",
    "### 2. Poland has the biggest number of scored goals from the date 25-08-2012 to 02-02-2013 ###"
   ]
  }
 ],
 "metadata": {
  "kernelspec": {
   "display_name": "Python 3",
   "language": "python",
   "name": "python3"
  },
  "language_info": {
   "codemirror_mode": {
    "name": "ipython",
    "version": 3
   },
   "file_extension": ".py",
   "mimetype": "text/x-python",
   "name": "python",
   "nbconvert_exporter": "python",
   "pygments_lexer": "ipython3",
   "version": "3.12.1"
  }
 },
 "nbformat": 4,
 "nbformat_minor": 2
}
